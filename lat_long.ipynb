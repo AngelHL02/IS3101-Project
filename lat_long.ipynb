{
 "cells": [
  {
   "cell_type": "markdown",
   "id": "6ec0f28b-90b8-4faf-aa51-d8a951632585",
   "metadata": {},
   "source": [
    "### Latitude and Longitude of web3.0"
   ]
  },
  {
   "cell_type": "code",
   "execution_count": 1,
   "id": "ed419153-fcaa-45d6-a8d3-25982dada32c",
   "metadata": {
    "tags": []
   },
   "outputs": [],
   "source": [
    "import pandas as pd\n",
    "\n",
    "# Create a dictionary of countries and their coordinates\n",
    "countries = {\n",
    "    \"South Korea\": [37.5665, 126.9780],\n",
    "    \"United Arab Emirates (UAE)\": [23.4241, 53.8478],\n",
    "    \"Switzerland\": [46.8182, 8.2275],\n",
    "    \"Estonia\": [58.5953, 25.0136],\n",
    "    \"Canada\": [56.1304, -106.3468],\n",
    "    \"Singapore\": [1.3521, 103.8198],\n",
    "    \"Australia\": [-25.2744, 133.7751],\n",
    "    \"UK\": [55.3781, -3.4360],\n",
    "    \"Saudi Arabia\": [23.8859, 45.0792],\n",
    "    \"USA\": [37.0902, -95.7129]\n",
    "}"
   ]
  },
  {
   "cell_type": "code",
   "execution_count": 2,
   "id": "d8f1e200-2336-4653-a6d7-550148b280b4",
   "metadata": {
    "tags": []
   },
   "outputs": [
    {
     "data": {
      "text/html": [
       "<div>\n",
       "<style scoped>\n",
       "    .dataframe tbody tr th:only-of-type {\n",
       "        vertical-align: middle;\n",
       "    }\n",
       "\n",
       "    .dataframe tbody tr th {\n",
       "        vertical-align: top;\n",
       "    }\n",
       "\n",
       "    .dataframe thead th {\n",
       "        text-align: right;\n",
       "    }\n",
       "</style>\n",
       "<table border=\"1\" class=\"dataframe\">\n",
       "  <thead>\n",
       "    <tr style=\"text-align: right;\">\n",
       "      <th></th>\n",
       "      <th>Country</th>\n",
       "      <th>latitude</th>\n",
       "      <th>longitude</th>\n",
       "    </tr>\n",
       "  </thead>\n",
       "  <tbody>\n",
       "    <tr>\n",
       "      <th>0</th>\n",
       "      <td>Australia</td>\n",
       "      <td>-25.2744</td>\n",
       "      <td>133.7751</td>\n",
       "    </tr>\n",
       "    <tr>\n",
       "      <th>1</th>\n",
       "      <td>Canada</td>\n",
       "      <td>56.1304</td>\n",
       "      <td>-106.3468</td>\n",
       "    </tr>\n",
       "    <tr>\n",
       "      <th>2</th>\n",
       "      <td>Estonia</td>\n",
       "      <td>58.5953</td>\n",
       "      <td>25.0136</td>\n",
       "    </tr>\n",
       "    <tr>\n",
       "      <th>3</th>\n",
       "      <td>Saudi Arabia</td>\n",
       "      <td>23.8859</td>\n",
       "      <td>45.0792</td>\n",
       "    </tr>\n",
       "    <tr>\n",
       "      <th>4</th>\n",
       "      <td>Singapore</td>\n",
       "      <td>1.3521</td>\n",
       "      <td>103.8198</td>\n",
       "    </tr>\n",
       "    <tr>\n",
       "      <th>5</th>\n",
       "      <td>South Korea</td>\n",
       "      <td>37.5665</td>\n",
       "      <td>126.9780</td>\n",
       "    </tr>\n",
       "    <tr>\n",
       "      <th>6</th>\n",
       "      <td>Switzerland</td>\n",
       "      <td>46.8182</td>\n",
       "      <td>8.2275</td>\n",
       "    </tr>\n",
       "    <tr>\n",
       "      <th>7</th>\n",
       "      <td>UK</td>\n",
       "      <td>55.3781</td>\n",
       "      <td>-3.4360</td>\n",
       "    </tr>\n",
       "    <tr>\n",
       "      <th>8</th>\n",
       "      <td>USA</td>\n",
       "      <td>37.0902</td>\n",
       "      <td>-95.7129</td>\n",
       "    </tr>\n",
       "    <tr>\n",
       "      <th>9</th>\n",
       "      <td>United Arab Emirates (UAE)</td>\n",
       "      <td>23.4241</td>\n",
       "      <td>53.8478</td>\n",
       "    </tr>\n",
       "  </tbody>\n",
       "</table>\n",
       "</div>"
      ],
      "text/plain": [
       "                      Country  latitude  longitude\n",
       "0                   Australia  -25.2744   133.7751\n",
       "1                      Canada   56.1304  -106.3468\n",
       "2                     Estonia   58.5953    25.0136\n",
       "3                Saudi Arabia   23.8859    45.0792\n",
       "4                   Singapore    1.3521   103.8198\n",
       "5                 South Korea   37.5665   126.9780\n",
       "6                 Switzerland   46.8182     8.2275\n",
       "7                          UK   55.3781    -3.4360\n",
       "8                         USA   37.0902   -95.7129\n",
       "9  United Arab Emirates (UAE)   23.4241    53.8478"
      ]
     },
     "execution_count": 2,
     "metadata": {},
     "output_type": "execute_result"
    }
   ],
   "source": [
    "# Convert the dictionary to a pandas dataframe and sort by the country name\n",
    "df_country = pd.DataFrame.from_dict(countries, orient='index', \\\n",
    "                                    columns=['latitude', 'longitude']).sort_index()\n",
    "\n",
    "# Add a new column 'Country' with the index values\n",
    "df_country.reset_index(inplace=True)\n",
    "df_country.rename(columns={'index':'Country'}, inplace=True)\n",
    "\n",
    "df_country"
   ]
  },
  {
   "cell_type": "code",
   "execution_count": 3,
   "id": "205fe94a-5d03-41dc-836f-d8074734445f",
   "metadata": {
    "tags": []
   },
   "outputs": [],
   "source": [
    "df_country.to_csv('lat_long.csv',index=False)"
   ]
  },
  {
   "cell_type": "code",
   "execution_count": null,
   "id": "07afebff-ca9b-4697-b7a7-d02979f0a8ec",
   "metadata": {},
   "outputs": [],
   "source": []
  }
 ],
 "metadata": {
  "kernelspec": {
   "display_name": "Python 3 (ipykernel)",
   "language": "python",
   "name": "python3"
  },
  "language_info": {
   "codemirror_mode": {
    "name": "ipython",
    "version": 3
   },
   "file_extension": ".py",
   "mimetype": "text/x-python",
   "name": "python",
   "nbconvert_exporter": "python",
   "pygments_lexer": "ipython3",
   "version": "3.11.3"
  }
 },
 "nbformat": 4,
 "nbformat_minor": 5
}
